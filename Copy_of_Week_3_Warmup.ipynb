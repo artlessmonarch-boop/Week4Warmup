{
  "nbformat": 4,
  "nbformat_minor": 0,
  "metadata": {
    "colab": {
      "provenance": [],
      "include_colab_link": true
    },
    "kernelspec": {
      "name": "python3",
      "display_name": "Python 3"
    },
    "language_info": {
      "name": "python"
    }
  },
  "cells": [
    {
      "cell_type": "markdown",
      "metadata": {
        "id": "view-in-github",
        "colab_type": "text"
      },
      "source": [
        "<a href=\"https://colab.research.google.com/github/artlessmonarch-boop/Week4Warmup/blob/main/Copy_of_Week_3_Warmup.ipynb\" target=\"_parent\"><img src=\"https://colab.research.google.com/assets/colab-badge.svg\" alt=\"Open In Colab\"/></a>"
      ]
    },
    {
      "cell_type": "markdown",
      "source": [
        "# Week 3 Warm up Activity\n",
        "\n",
        "We've been doing a lot of different things with libraries in all of our weeks together. Everytime we use `import` we pull in additional functionality that was built into a library.\n",
        "\n",
        "We'll spend some time now looking at the why and how of this process. Just run the cells below to follow along."
      ],
      "metadata": {
        "id": "5_0KHCTx9bm7"
      }
    },
    {
      "cell_type": "code",
      "execution_count": 1,
      "metadata": {
        "id": "njTHblQ49QT9"
      },
      "outputs": [],
      "source": [
        "#Our usual method of importing a library\n",
        "\n",
        "import pandas as pd"
      ]
    },
    {
      "cell_type": "markdown",
      "source": [
        "# Jupyter Magic Commands and Shell Commands\n",
        "\n",
        "If we want our code cell to modify or examine the Jupyter environment we need to use different tactics.\n",
        "\n",
        "\n",
        "If we want to run a shell command in Jupyter we preface it with a `!`.\n",
        "\n",
        "Learning shell scripting is a wonderful skill that would be a good follow up to this course. You can start by looking at the Software Carpentry Novice Shell [tutorial](https://swcarpentry.github.io/shell-novice/) to start.\n"
      ],
      "metadata": {
        "id": "1IQi1IsNArjd"
      }
    },
    {
      "cell_type": "code",
      "source": [
        "# We'll run the classic du (*disk* *usage* utility) to see how much\n",
        "# space files use in the sample data that comes in each notebook that you\n",
        "# start with in Colab.\n",
        "#\n",
        "# You can see these files in a graphical browser by click in the folder icon\n",
        "# in the column to the left\n",
        "\n",
        "!du -h ./sample_data/*"
      ],
      "metadata": {
        "id": "o1cd9bhhBf-H",
        "colab": {
          "base_uri": "https://localhost:8080/"
        },
        "outputId": "5243cb51-937a-4d07-f843-3fa2d3c9c4c6"
      },
      "execution_count": 2,
      "outputs": [
        {
          "output_type": "stream",
          "name": "stdout",
          "text": [
            "4.0K\t./sample_data/anscombe.json\n",
            "296K\t./sample_data/california_housing_test.csv\n",
            "1.7M\t./sample_data/california_housing_train.csv\n",
            "18M\t./sample_data/mnist_test.csv\n",
            "35M\t./sample_data/mnist_train_small.csv\n",
            "4.0K\t./sample_data/README.md\n"
          ]
        }
      ]
    },
    {
      "cell_type": "markdown",
      "source": [
        "## % Line Magics\n",
        "\n",
        "Whenever we see a line that starts with a percentage character in a cell we are giving special instructions to the Jupyter notebook environment. This is typically used to tweak the environment in someway. We've used this all the time when we import Matplot lib\n"
      ],
      "metadata": {
        "id": "YuxbEXTXDD3t"
      }
    },
    {
      "cell_type": "code",
      "source": [
        "#This should look familiar,\n",
        "#We've been doing this to get Matplotlib to play nice in the Jupyter environment\n",
        "#This is only mentioned for completeness, we won't spend anymore time on line magics\n",
        "\n",
        "import matplotlib.pyplot as plt\n",
        "%matplotlib inline"
      ],
      "metadata": {
        "id": "0rtuYsOLDCRD"
      },
      "execution_count": 3,
      "outputs": []
    },
    {
      "cell_type": "markdown",
      "source": [
        "# Now onto PIP\n",
        "\n",
        "[pip](https://en.wikipedia.org/wiki/Pip_(package_manager)) is the shell command that will install new libraries into your environment. You can use `pip` to install different versions of libraries as well. Sometimes if you are really deep in the weeds you'll need to install a specific version of a library for compatibility reasons. Run the cells below to see some `pip` action"
      ],
      "metadata": {
        "id": "oY6Mebm0EhHk"
      }
    },
    {
      "cell_type": "code",
      "source": [
        "#print out pip 'help'\n",
        "!pip -h"
      ],
      "metadata": {
        "id": "qroXlnMWAafU",
        "colab": {
          "base_uri": "https://localhost:8080/"
        },
        "outputId": "765ec360-38d9-43a0-a50f-b5236c74c078"
      },
      "execution_count": 4,
      "outputs": [
        {
          "output_type": "stream",
          "name": "stdout",
          "text": [
            "\n",
            "Usage:   \n",
            "  pip3 <command> [options]\n",
            "\n",
            "Commands:\n",
            "  install                     Install packages.\n",
            "  download                    Download packages.\n",
            "  uninstall                   Uninstall packages.\n",
            "  freeze                      Output installed packages in requirements format.\n",
            "  inspect                     Inspect the python environment.\n",
            "  list                        List installed packages.\n",
            "  show                        Show information about installed packages.\n",
            "  check                       Verify installed packages have compatible dependencies.\n",
            "  config                      Manage local and global configuration.\n",
            "  search                      Search PyPI for packages.\n",
            "  cache                       Inspect and manage pip's wheel cache.\n",
            "  index                       Inspect information available from package indexes.\n",
            "  wheel                       Build wheels from your requirements.\n",
            "  hash                        Compute hashes of package archives.\n",
            "  completion                  A helper command used for command completion.\n",
            "  debug                       Show information useful for debugging.\n",
            "  help                        Show help for commands.\n",
            "\n",
            "General Options:\n",
            "  -h, --help                  Show help.\n",
            "  --debug                     Let unhandled exceptions propagate outside the\n",
            "                              main subroutine, instead of logging them to\n",
            "                              stderr.\n",
            "  --isolated                  Run pip in an isolated mode, ignoring\n",
            "                              environment variables and user configuration.\n",
            "  --require-virtualenv        Allow pip to only run in a virtual environment;\n",
            "                              exit with an error otherwise.\n",
            "  --python <python>           Run pip with the specified Python interpreter.\n",
            "  -v, --verbose               Give more output. Option is additive, and can be\n",
            "                              used up to 3 times.\n",
            "  -V, --version               Show version and exit.\n",
            "  -q, --quiet                 Give less output. Option is additive, and can be\n",
            "                              used up to 3 times (corresponding to WARNING,\n",
            "                              ERROR, and CRITICAL logging levels).\n",
            "  --log <path>                Path to a verbose appending log.\n",
            "  --no-input                  Disable prompting for input.\n",
            "  --keyring-provider <keyring_provider>\n",
            "                              Enable the credential lookup via the keyring\n",
            "                              library if user input is allowed. Specify which\n",
            "                              mechanism to use [disabled, import, subprocess].\n",
            "                              (default: disabled)\n",
            "  --proxy <proxy>             Specify a proxy in the form\n",
            "                              scheme://[user:passwd@]proxy.server:port.\n",
            "  --retries <retries>         Maximum number of retries each connection should\n",
            "                              attempt (default 5 times).\n",
            "  --timeout <sec>             Set the socket timeout (default 15 seconds).\n",
            "  --exists-action <action>    Default action when a path already exists:\n",
            "                              (s)witch, (i)gnore, (w)ipe, (b)ackup, (a)bort.\n",
            "  --trusted-host <hostname>   Mark this host or host:port pair as trusted,\n",
            "                              even though it does not have valid or any HTTPS.\n",
            "  --cert <path>               Path to PEM-encoded CA certificate bundle. If\n",
            "                              provided, overrides the default. See 'SSL\n",
            "                              Certificate Verification' in pip documentation\n",
            "                              for more information.\n",
            "  --client-cert <path>        Path to SSL client certificate, a single file\n",
            "                              containing the private key and the certificate\n",
            "                              in PEM format.\n",
            "  --cache-dir <dir>           Store the cache data in <dir>.\n",
            "  --no-cache-dir              Disable the cache.\n",
            "  --disable-pip-version-check\n",
            "                              Don't periodically check PyPI to determine\n",
            "                              whether a new version of pip is available for\n",
            "                              download. Implied with --no-index.\n",
            "  --no-color                  Suppress colored output.\n",
            "  --no-python-version-warning\n",
            "                              Silence deprecation warnings for upcoming\n",
            "                              unsupported Pythons.\n",
            "  --use-feature <feature>     Enable new functionality, that may be backward\n",
            "                              incompatible.\n",
            "  --use-deprecated <feature>  Enable deprecated functionality, that will be\n",
            "                              removed in the future.\n"
          ]
        }
      ]
    },
    {
      "cell_type": "code",
      "source": [
        "#use pip to check what version a library is\n",
        "!pip show pandas"
      ],
      "metadata": {
        "id": "OESQHQOhFJgW",
        "colab": {
          "base_uri": "https://localhost:8080/"
        },
        "outputId": "6e225b5a-b09a-4487-90d1-c2efcdaf1c97"
      },
      "execution_count": 5,
      "outputs": [
        {
          "output_type": "stream",
          "name": "stdout",
          "text": [
            "Name: pandas\n",
            "Version: 2.2.2\n",
            "Summary: Powerful data structures for data analysis, time series, and statistics\n",
            "Home-page: https://pandas.pydata.org\n",
            "Author: \n",
            "Author-email: The Pandas Development Team <pandas-dev@python.org>\n",
            "License: BSD 3-Clause License\n",
            "\n",
            "Copyright (c) 2008-2011, AQR Capital Management, LLC, Lambda Foundry, Inc. and PyData Development Team\n",
            "All rights reserved.\n",
            "\n",
            "Copyright (c) 2011-2023, Open source contributors.\n",
            "\n",
            "Redistribution and use in source and binary forms, with or without\n",
            "modification, are permitted provided that the following conditions are met:\n",
            "\n",
            "* Redistributions of source code must retain the above copyright notice, this\n",
            "  list of conditions and the following disclaimer.\n",
            "\n",
            "* Redistributions in binary form must reproduce the above copyright notice,\n",
            "  this list of conditions and the following disclaimer in the documentation\n",
            "  and/or other materials provided with the distribution.\n",
            "\n",
            "* Neither the name of the copyright holder nor the names of its\n",
            "  contributors may be used to endorse or promote products derived from\n",
            "  this software without specific prior written permission.\n",
            "\n",
            "THIS SOFTWARE IS PROVIDED BY THE COPYRIGHT HOLDERS AND CONTRIBUTORS \"AS IS\"\n",
            "AND ANY EXPRESS OR IMPLIED WARRANTIES, INCLUDING, BUT NOT LIMITED TO, THE\n",
            "IMPLIED WARRANTIES OF MERCHANTABILITY AND FITNESS FOR A PARTICULAR PURPOSE ARE\n",
            "DISCLAIMED. IN NO EVENT SHALL THE COPYRIGHT HOLDER OR CONTRIBUTORS BE LIABLE\n",
            "FOR ANY DIRECT, INDIRECT, INCIDENTAL, SPECIAL, EXEMPLARY, OR CONSEQUENTIAL\n",
            "DAMAGES (INCLUDING, BUT NOT LIMITED TO, PROCUREMENT OF SUBSTITUTE GOODS OR\n",
            "SERVICES; LOSS OF USE, DATA, OR PROFITS; OR BUSINESS INTERRUPTION) HOWEVER\n",
            "CAUSED AND ON ANY THEORY OF LIABILITY, WHETHER IN CONTRACT, STRICT LIABILITY,\n",
            "OR TORT (INCLUDING NEGLIGENCE OR OTHERWISE) ARISING IN ANY WAY OUT OF THE USE\n",
            "OF THIS SOFTWARE, EVEN IF ADVISED OF THE POSSIBILITY OF SUCH DAMAGE.\n",
            "Location: /usr/local/lib/python3.12/dist-packages\n",
            "Requires: numpy, python-dateutil, pytz, tzdata\n",
            "Required-by: arviz, bigframes, bigquery-magics, bokeh, bqplot, cmdstanpy, cudf-cu12, cufflinks, dask-cuda, dask-cudf-cu12, datasets, db-dtypes, dopamine_rl, fastai, geemap, geopandas, google-colab, gradio, gspread-dataframe, holoviews, libpysal, mizani, mlxtend, pandas-datareader, pandas-gbq, panel, plotnine, prophet, pymc, seaborn, shap, sklearn-pandas, statsmodels, tensorflow_decision_forests, tsfresh, vega-datasets, xarray, yfinance\n"
          ]
        }
      ]
    },
    {
      "cell_type": "markdown",
      "source": [
        "# Bringing it all together now...\n",
        "\n",
        "If you are using a very esoteric library that isn't included in the basic collection of Python libraries you will need to `pip install` it before you can import it.\n",
        "\n",
        "We'll use a library called [pyDataverse](https://pydataverse.readthedocs.io/en/latest/) as our example. I work with Dataverse in [other parts of my job](https://github.com/elibtronic/Borealis_Helper_Notebooks/tree/main) and it creates a nice Python API interface for that platform.\n",
        "\n",
        "(Here's a quick [video](https://youtu.be/F131ZAyeNKY?t=9594) of how I use this Library for my job.)\n"
      ],
      "metadata": {
        "id": "qQtkDO6dFWkK"
      }
    },
    {
      "cell_type": "code",
      "source": [
        "#This will cause an error\n",
        "import pyDataverse"
      ],
      "metadata": {
        "id": "gnJ0gjnMGQB_",
        "colab": {
          "base_uri": "https://localhost:8080/",
          "height": 340
        },
        "outputId": "d7e53884-e17b-4129-f49f-a74740c627ed"
      },
      "execution_count": 6,
      "outputs": [
        {
          "output_type": "error",
          "ename": "ModuleNotFoundError",
          "evalue": "No module named 'pyDataverse'",
          "traceback": [
            "\u001b[0;31m---------------------------------------------------------------------------\u001b[0m",
            "\u001b[0;31mModuleNotFoundError\u001b[0m                       Traceback (most recent call last)",
            "\u001b[0;32m/tmp/ipython-input-3889296665.py\u001b[0m in \u001b[0;36m<cell line: 0>\u001b[0;34m()\u001b[0m\n\u001b[1;32m      1\u001b[0m \u001b[0;31m#This will cause an error\u001b[0m\u001b[0;34m\u001b[0m\u001b[0;34m\u001b[0m\u001b[0m\n\u001b[0;32m----> 2\u001b[0;31m \u001b[0;32mimport\u001b[0m \u001b[0mpyDataverse\u001b[0m\u001b[0;34m\u001b[0m\u001b[0;34m\u001b[0m\u001b[0m\n\u001b[0m",
            "\u001b[0;31mModuleNotFoundError\u001b[0m: No module named 'pyDataverse'",
            "",
            "\u001b[0;31m---------------------------------------------------------------------------\u001b[0;32m\nNOTE: If your import is failing due to a missing package, you can\nmanually install dependencies using either !pip or !apt.\n\nTo view examples of installing some common dependencies, click the\n\"Open Examples\" button below.\n\u001b[0;31m---------------------------------------------------------------------------\u001b[0m\n"
          ],
          "errorDetails": {
            "actions": [
              {
                "action": "open_url",
                "actionText": "Open Examples",
                "url": "/notebooks/snippets/importing_libraries.ipynb"
              }
            ]
          }
        }
      ]
    },
    {
      "cell_type": "code",
      "source": [
        "#We'll use pip to install it...\n",
        "!pip install pyDataverse"
      ],
      "metadata": {
        "id": "jEmTGfVWG8cu",
        "colab": {
          "base_uri": "https://localhost:8080/"
        },
        "outputId": "8f76ebb4-762e-42b0-d22a-c2bb68d3a0a2"
      },
      "execution_count": 7,
      "outputs": [
        {
          "output_type": "stream",
          "name": "stdout",
          "text": [
            "Collecting pyDataverse\n",
            "  Downloading pydataverse-0.3.5-py3-none-any.whl.metadata (4.5 kB)\n",
            "Requirement already satisfied: httpx<0.30,>=0.27 in /usr/local/lib/python3.12/dist-packages (from pyDataverse) (0.28.1)\n",
            "Requirement already satisfied: jsonschema<5.0.0,>=4.21.1 in /usr/local/lib/python3.12/dist-packages (from pyDataverse) (4.25.1)\n",
            "Requirement already satisfied: anyio in /usr/local/lib/python3.12/dist-packages (from httpx<0.30,>=0.27->pyDataverse) (4.10.0)\n",
            "Requirement already satisfied: certifi in /usr/local/lib/python3.12/dist-packages (from httpx<0.30,>=0.27->pyDataverse) (2025.8.3)\n",
            "Requirement already satisfied: httpcore==1.* in /usr/local/lib/python3.12/dist-packages (from httpx<0.30,>=0.27->pyDataverse) (1.0.9)\n",
            "Requirement already satisfied: idna in /usr/local/lib/python3.12/dist-packages (from httpx<0.30,>=0.27->pyDataverse) (3.10)\n",
            "Requirement already satisfied: h11>=0.16 in /usr/local/lib/python3.12/dist-packages (from httpcore==1.*->httpx<0.30,>=0.27->pyDataverse) (0.16.0)\n",
            "Requirement already satisfied: attrs>=22.2.0 in /usr/local/lib/python3.12/dist-packages (from jsonschema<5.0.0,>=4.21.1->pyDataverse) (25.3.0)\n",
            "Requirement already satisfied: jsonschema-specifications>=2023.03.6 in /usr/local/lib/python3.12/dist-packages (from jsonschema<5.0.0,>=4.21.1->pyDataverse) (2025.4.1)\n",
            "Requirement already satisfied: referencing>=0.28.4 in /usr/local/lib/python3.12/dist-packages (from jsonschema<5.0.0,>=4.21.1->pyDataverse) (0.36.2)\n",
            "Requirement already satisfied: rpds-py>=0.7.1 in /usr/local/lib/python3.12/dist-packages (from jsonschema<5.0.0,>=4.21.1->pyDataverse) (0.27.0)\n",
            "Requirement already satisfied: typing-extensions>=4.4.0 in /usr/local/lib/python3.12/dist-packages (from referencing>=0.28.4->jsonschema<5.0.0,>=4.21.1->pyDataverse) (4.14.1)\n",
            "Requirement already satisfied: sniffio>=1.1 in /usr/local/lib/python3.12/dist-packages (from anyio->httpx<0.30,>=0.27->pyDataverse) (1.3.1)\n",
            "Downloading pydataverse-0.3.5-py3-none-any.whl (95 kB)\n",
            "\u001b[2K   \u001b[90m━━━━━━━━━━━━━━━━━━━━━━━━━━━━━━━━━━━━━━━━\u001b[0m \u001b[32m95.6/95.6 kB\u001b[0m \u001b[31m2.3 MB/s\u001b[0m eta \u001b[36m0:00:00\u001b[0m\n",
            "\u001b[?25hInstalling collected packages: pyDataverse\n",
            "Successfully installed pyDataverse-0.3.5\n"
          ]
        }
      ]
    },
    {
      "cell_type": "code",
      "source": [
        "#Ah, that's better...\n",
        "import pyDataverse"
      ],
      "metadata": {
        "id": "EoPoH7XoHCTK"
      },
      "execution_count": 8,
      "outputs": []
    },
    {
      "cell_type": "markdown",
      "source": [
        "## All told...\n",
        "\n",
        "When you are using the Google Colab environment keeping track of what libraries are installed and the dependencies between them is pretty easy. It comes down to:\n",
        "\n",
        "- try to `import` the library\n",
        "- if that fails, `!pip install` that library, then `import`\n",
        "\n",
        "When you **Disconnect and delete** the runtime, or close the tab, the environment you created goes away, you'll need to build it from scratch next time you run your Colab notebook. This includes connecting to Google Drive again.\n",
        "\n",
        "Things get more complex if you a running notebooks on your local computer. For example if you are using Anaconda, you'll need to spend some time [working with environments](https://docs.anaconda.com/ae-notebooks/user-guide/adv-tasks/work-with-environments/). That is outside of the scope of what we handle in this class, but will be essential to spend some time on if you run things locally."
      ],
      "metadata": {
        "id": "jcGlJIek-DQK"
      }
    }
  ]
}